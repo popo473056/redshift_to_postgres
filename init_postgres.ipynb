{
 "cells": [
  {
   "cell_type": "code",
   "execution_count": null,
   "id": "09874f0b",
   "metadata": {},
   "outputs": [],
   "source": [
    "import psycopg2\n",
    "\n",
    "# PostgreSQL 접속\n",
    "conn = psycopg2.connect(\n",
    "    host=\"localhost\",\n",
    "    port=5432,\n",
    "    user=\"postgres\",\n",
    "    password=\"mypassword\",\n",
    "    dbname=\"postgres\"\n",
    ")\n",
    "conn.autocommit = True\n",
    "cur = conn.cursor()\n",
    "\n",
    "# 1. 데이터베이스 생성 (없으면)\n",
    "try:\n",
    "    cur.execute(\"CREATE DATABASE mydb\")\n",
    "    print(\"✅ DB 'mydb' 생성 완료\")\n",
    "except psycopg2.errors.DuplicateDatabase:\n",
    "    print(\"ℹ️ DB 'mydb' 이미 존재\")\n",
    "\n",
    "# 2. 접속 종료 후 새 DB로 연결\n",
    "cur.close()\n",
    "conn.close()\n",
    "\n",
    "conn = psycopg2.connect(\n",
    "    host=\"localhost\",\n",
    "    port=5432,\n",
    "    user=\"postgres\",\n",
    "    password=\"mypassword\",\n",
    "    dbname=\"mydb\"\n",
    ")\n",
    "conn.autocommit = True\n",
    "cur = conn.cursor()\n",
    "\n",
    "# 3. 스키마 생성\n",
    "try:\n",
    "    cur.execute(\"CREATE SCHEMA IF NOT EXISTS analytics\")\n",
    "    print(\"✅ SCHEMA 'analytics' 생성 완료\")\n",
    "except Exception as e:\n",
    "    print(f\"❌ 스키마 생성 실패: {e}\")\n"
   ]
  }
 ],
 "metadata": {
  "language_info": {
   "name": "python"
  }
 },
 "nbformat": 4,
 "nbformat_minor": 5
}
